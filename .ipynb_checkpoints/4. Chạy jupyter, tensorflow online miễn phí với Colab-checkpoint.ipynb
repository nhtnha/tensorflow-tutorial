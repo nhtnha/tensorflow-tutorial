{
 "cells": [
  {
   "cell_type": "markdown",
   "metadata": {},
   "source": [
    "Colaboratory là nơi chúng ta có thể chạy Jupyter notebook  trực tuyến miễn phí mà không cần cài đặt.\n",
    "\n",
    "khi bạn tạo một notebook trên colab.research.google.com, thì TensorFlow đã được cài đặt.  Ta chỉ cần `` import tensorflow as tf``, và chiến!"
   ]
  },
  {
   "cell_type": "markdown",
   "metadata": {},
   "source": [
    "# chạy một notebook từ github và Google Drive:\n",
    "\n",
    "Bạn vào colab.research.google.com/github/ >> chọn mục github >> search \"thunguyen177\" >> chọn notebook mà bạn thích thì sẽ có thể chạy notebook của mình trên cloud \n",
    "\n",
    "Thay vì search, mình cũng có thể bỏ vào mục github của Colab đường dẫn \n",
    "https://github.com/thunguyen177/tensorflow-tutorial/blob/master/1.Tensorflow%20c%C6%A1%20b%E1%BA%A3n.ipynb\n",
    "\n",
    "khi đó thì mình nhận được cái để chơi online:\n",
    "https://colab.research.google.com/github/thunguyen177/tensorflow-tutorial/blob/master/.ipynb_checkpoints/1.Tensorflow%20c%C6%A1%20b%E1%BA%A3n-checkpoint.ipynb\n",
    "\n",
    "Sau khi chơi chán, mình lại có thể vào ``File`` rồi chọn ``Save a copy in github`` để lưu một bản vào github cá nhân hoặc chọn ``Save a copy in Drive`` để lưu trong drive. "
   ]
  },
  {
   "cell_type": "markdown",
   "metadata": {},
   "source": [
    "\n",
    "# Chia sẻ và chỉnh sửa chung:\n",
    "\n",
    "\n",
    "Colab notebooks thì giống các Google Docs và Sheets. Muốn share, bạn bấm share ở bên trên notebook"
   ]
  },
  {
   "cell_type": "markdown",
   "metadata": {},
   "source": [
    "# Dữ liệu và thư viện\n",
    "\n",
    "Ta có thể tạo cell chứa ``!pip install`` hoặc ``!apt-get``  \n",
    "\n",
    "Để có training data, xem https://colab.research.google.com/notebooks/io.ipynb\n",
    "\n",
    "Ta cũng có thể sử dụng `` !,!wget, !pwd, ...``.\n",
    "\n",
    "5. Hardware acceleration\n",
    "\n",
    "Mặc định thì  Colab notebooks chạy trên CPU, nhưng ta có thể chạy trên GPU bằng cách vào Runtime > Change runtime type, rồi chọn GPU. \n",
    "\n",
    "Xem thêm về local runtimes: https://research.google.com/colaboratory/local-runtimes.html\n",
    "\n",
    "\n",
    "\n",
    "tìm hiểu thêm về Colab tại: \n",
    "https://colab.research.google.com/notebooks/welcome.ipynb"
   ]
  },
  {
   "cell_type": "code",
   "execution_count": null,
   "metadata": {},
   "outputs": [],
   "source": []
  }
 ],
 "metadata": {
  "kernelspec": {
   "display_name": "Python 2",
   "language": "python",
   "name": "python2"
  },
  "language_info": {
   "codemirror_mode": {
    "name": "ipython",
    "version": 2
   },
   "file_extension": ".py",
   "mimetype": "text/x-python",
   "name": "python",
   "nbconvert_exporter": "python",
   "pygments_lexer": "ipython2",
   "version": "2.7.15"
  }
 },
 "nbformat": 4,
 "nbformat_minor": 2
}
